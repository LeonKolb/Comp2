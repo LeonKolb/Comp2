{
 "cells": [
  {
   "cell_type": "markdown",
   "metadata": {},
   "source": [
    "# Notebook 4: Neural Decoding\n",
    "\n",
    "Computational Biology 2 - WS 23/24\n",
    "\n",
    "Material created by Katharina Bracher and Florian Eberhardt.\n",
    "\n",
    "Based on Theoretical Neuroscience (Dayan and Abbot), pp. 90-94."
   ]
  },
  {
   "cell_type": "code",
   "execution_count": 6,
   "metadata": {},
   "outputs": [],
   "source": [
    "import numpy as np\n",
    "import matplotlib.pyplot as plt\n",
    "from scipy.stats import norm\n",
    "import json\n",
    "from matplotlib import cm \n",
    "#last module only for color maps"
   ]
  },
  {
   "cell_type": "markdown",
   "metadata": {},
   "source": [
    "## Bayes theorem:  $P[s|r] = \\frac{P[r|s]P[s]}{P[r]}$\n",
    "\n",
    "(assuming that $P[r]\\neq 0$)\n",
    "\n",
    "- $P[s]$, the probability of stimulus s being presented, often called the\n",
    "prior probability\n",
    "- $P[r]$, the probability of response r being recorded\n",
    "- $P[r, s]$, the probability of stimulus s being presented and responsebeing recorded. This is called the joint probability\n",
    "-$P[r| s]$, the conditional probability of evoking response r, given that\n",
    "stimulus s was presented\n",
    "-$P[s|r]$, the conditional probability that stimulus s was presented,\n",
    "given that response r was recorded.\n",
    "\n"
   ]
  },
  {
   "cell_type": "markdown",
   "metadata": {},
   "source": [
    "### Problem 1: Bayesian Inference\n",
    "\n",
    "- Explain how to compute $P[r]$, $P[s]$, $P[s|r]$, $P[r|s]$ from the joint probabiltiy P[r,s] What values are summed? What gets normalized?\n",
    "- Compute $P[r]$, $P[s]$, $P[s|r]$, $P[r|s]$ from the joint probabiltiy P[r,s]. \n",
    "- Under the condition of measuring response **\"4\"**, what is the probabilty that Stimuls **\"B\"** was presented?  \n",
    "Answer by reading the value directely from $P[s|r]$ and then computing it based on Bayes theorem. Confirm that the values are identical."
   ]
  },
  {
   "cell_type": "code",
   "execution_count": 7,
   "metadata": {},
   "outputs": [
    {
     "ename": "FileNotFoundError",
     "evalue": "[Errno 2] No such file or directory: './data/prob_density.json'",
     "output_type": "error",
     "traceback": [
      "\u001b[0;31m---------------------------------------------------------------------------\u001b[0m",
      "\u001b[0;31mFileNotFoundError\u001b[0m                         Traceback (most recent call last)",
      "\u001b[0;32m/tmp/ipykernel_1910/53845956.py\u001b[0m in \u001b[0;36m<module>\u001b[0;34m\u001b[0m\n\u001b[0;32m----> 1\u001b[0;31m \u001b[0;32mwith\u001b[0m \u001b[0mopen\u001b[0m\u001b[0;34m(\u001b[0m\u001b[0;34m'./data/prob_density.json'\u001b[0m\u001b[0;34m,\u001b[0m \u001b[0;34m'r'\u001b[0m\u001b[0;34m)\u001b[0m \u001b[0;32mas\u001b[0m \u001b[0mjson_file\u001b[0m\u001b[0;34m:\u001b[0m\u001b[0;34m\u001b[0m\u001b[0;34m\u001b[0m\u001b[0m\n\u001b[0m\u001b[1;32m      2\u001b[0m     \u001b[0mjson_data\u001b[0m \u001b[0;34m=\u001b[0m \u001b[0mjson\u001b[0m\u001b[0;34m.\u001b[0m\u001b[0mload\u001b[0m\u001b[0;34m(\u001b[0m\u001b[0mjson_file\u001b[0m\u001b[0;34m)\u001b[0m\u001b[0;34m\u001b[0m\u001b[0;34m\u001b[0m\u001b[0m\n\u001b[1;32m      3\u001b[0m \u001b[0;34m\u001b[0m\u001b[0m\n\u001b[1;32m      4\u001b[0m \u001b[0mp_rs\u001b[0m \u001b[0;34m=\u001b[0m \u001b[0mnp\u001b[0m\u001b[0;34m.\u001b[0m\u001b[0marray\u001b[0m\u001b[0;34m(\u001b[0m\u001b[0mjson_data\u001b[0m\u001b[0;34m[\u001b[0m\u001b[0;34m'prob_density'\u001b[0m\u001b[0;34m]\u001b[0m\u001b[0;34m)\u001b[0m\u001b[0;34m\u001b[0m\u001b[0;34m\u001b[0m\u001b[0m\n\u001b[1;32m      5\u001b[0m \u001b[0mstimuli\u001b[0m \u001b[0;34m=\u001b[0m \u001b[0mjson_data\u001b[0m\u001b[0;34m[\u001b[0m\u001b[0;34m'stimuli'\u001b[0m\u001b[0;34m]\u001b[0m\u001b[0;34m\u001b[0m\u001b[0;34m\u001b[0m\u001b[0m\n",
      "\u001b[0;31mFileNotFoundError\u001b[0m: [Errno 2] No such file or directory: './data/prob_density.json'"
     ]
    }
   ],
   "source": [
    "with open('./data/prob_density.json', 'r') as json_file:\n",
    "    json_data = json.load(json_file)\n",
    "\n",
    "p_rs = np.array(json_data['prob_density'])\n",
    "stimuli = json_data['stimuli']\n",
    "responses = json_data['responses']\n",
    "\n",
    "fig = plt.figure(dpi=150)\n",
    "ax = fig.add_subplot(111)\n",
    "ms = ax.imshow(p_rs)\n",
    "ax.set_xlabel('Stimulus: s')\n",
    "ax.set_ylabel('Response: r')\n",
    "cbar = plt.colorbar(ms, label='Probability')\n",
    "ax.set_title('Joint probability\\nP[r,s]')"
   ]
  },
  {
   "cell_type": "code",
   "execution_count": null,
   "metadata": {},
   "outputs": [],
   "source": [
    "# TODO: What are the right functions?\n",
    "\n",
    "def get_p_?():\n",
    "    return np.sum(p_rs, axis=1)\n",
    "\n",
    "def get_p_?():\n",
    "    return np.sum(p_rs, axis=0)\n",
    "\n",
    "def get_p_?():\n",
    "    p = np.empty(np.shape(p_rs))\n",
    "    for i in range(np.shape(p_rs)[1]):\n",
    "        p[:,i] = p_rs[:,i] / np.sum(p_rs[:,i])\n",
    "    return p\n",
    "    \n",
    "def get_p_?():\n",
    "    p = np.empty(np.shape(p_rs))\n",
    "    for i in range(np.shape(p_rs)[0]):\n",
    "        p[i,:] = p_rs[i,:] / np.sum(p_rs[i,:])\n",
    "    return p\n",
    "\n",
    "p_r = get_p_r()\n",
    "p_s = get_p_s()\n",
    "p_r_cond_s = get_p_r_cond_s()\n",
    "p_s_cond_r = get_p_s_cond_r()"
   ]
  },
  {
   "cell_type": "code",
   "execution_count": null,
   "metadata": {},
   "outputs": [],
   "source": [
    "# TODO Bayesian inference"
   ]
  },
  {
   "cell_type": "markdown",
   "metadata": {},
   "source": [
    "---\n",
    "### Problem 2: Did the sun just explode?"
   ]
  },
  {
   "cell_type": "markdown",
   "metadata": {},
   "source": [
    "<img src=\"https://cdn-images-1.medium.com/max/936/1*kJHUF87cQNkxxPbeyEgHig.png\" width=\"350\">\n",
    "Source: https://xkcd.com/1132/"
   ]
  },
  {
   "cell_type": "markdown",
   "metadata": {},
   "source": [
    "Explain the bayesian statistician point of view."
   ]
  },
  {
   "cell_type": "markdown",
   "metadata": {},
   "source": [
    "---\n",
    "### Problem 3: Neuronal response"
   ]
  },
  {
   "cell_type": "markdown",
   "metadata": {},
   "source": [
    "<img src=\"https://www.researchgate.net/publication/230624328/figure/fig1/AS:214158353145856@1428070738125/Schematic-diagram-of-the-RDM-stimulus-with-different-motion-coherence-levels-In-each.png\" width=\"500\">"
   ]
  },
  {
   "cell_type": "markdown",
   "metadata": {},
   "source": [
    "There are two different stimuli: Dots moving coherently right or dots moving coherently left. The strength of the coherence of the movement can be varied between 0 and 1.\n",
    "Suppose that a neuron responds  on average with a different firing rates on the two different stimuli.\n",
    "$r_+=50 Hz$ if dots are moving right (+direction) and $r_-=30 Hz$ if dots are moving left (- direction). \n",
    "\n",
    "\n",
    "The probabilities that a neuron responds to a motion coherence of strength $s$ with a firing rate between $r$ and $r+\\Delta r$ is $p(r)\\Delta r$ where \n",
    "\n",
    "$$ p(r) = \\frac{1}{\\sqrt{2\\pi}\\sigma} exp\\left(-\\frac{(r-r_m)^2}{2 \\sigma^2}\\right) $$\n",
    "\n",
    "with mean $r_m = r_{+/-}$ and $\\sigma = 10+2/s$."
   ]
  },
  {
   "cell_type": "markdown",
   "metadata": {},
   "source": [
    "a) Write a function that returns the values of $p(r|r_+)$ and $p(r|r_-)$ depending on the coherence of the motion.\n",
    "Visualize $p(r|r_+)$ and $p(r|r_-)$ for coherence value $c\\in \\{0.1, 0.4, 0.7, 1.0 \\}$\n",
    "\n",
    "Normalize based on the assumption that the there are only integer firing rates and the min. and max. rates are 0 and 100 Hz. "
   ]
  },
  {
   "cell_type": "code",
   "execution_count": null,
   "metadata": {},
   "outputs": [],
   "source": [
    "def firing_prob(motion_direction, coherence, r=np.arange(0,101,)):\n",
    "    \"\"\"\n",
    "    motion_direction: -1 if left or +1 if right\n",
    "    coherence: coherence of random dot stiumulus, value has to be between 0 and 1\n",
    "    \"\"\"\n",
    "    # TODO implement function body\n",
    "    return r, p"
   ]
  },
  {
   "cell_type": "code",
   "execution_count": null,
   "metadata": {},
   "outputs": [],
   "source": [
    "stimuli_coherence = [0.1, 0.4, 0.7, 1.0]\n",
    "stimuli_direction = [-1,1]\n",
    "\n",
    "fig, ax = plt.subplots(figsize=(8,4),dpi=150)\n",
    "\n",
    "for coh in stimuli_coherence:\n",
    "    r, p_right = firing_prob(motion_direction=1, coherence=coh)\n",
    "    ax.plot(r, p_right, label = str(coh), c = cm.coolwarm(coh))\n",
    "    r, p_left = firing_prob(motion_direction=-1, coherence=coh)\n",
    "    ax.plot(r, p_left,  c = cm.coolwarm(coh), ls='--')\n",
    "\n",
    "    \n",
    "ax.set_xlabel(r\"Rate $r$\")\n",
    "ax.set_ylabel(r\"Firing probability $p(r, s)$\")\n",
    "ax.grid()\n",
    "ax.legend()\n",
    "plt.show()"
   ]
  },
  {
   "cell_type": "markdown",
   "metadata": {},
   "source": [
    "### Problem 4: Size an power of the ROC curve\n",
    "Based on a readout threshold for the firing rate we test which of the stiumli was presented.\n",
    "Explain how the Hit rate and the False alarm rate change depending on the threshold $z$. Assume a fixed coherence of the dot motion."
   ]
  },
  {
   "cell_type": "markdown",
   "metadata": {},
   "source": [
    "\n",
    "- right curve: $p(r|+)$ - stimulus with right moving dots\n",
    "- left curve: $p(r|S)$ - stimulus with left moving dots"
   ]
  },
  {
   "cell_type": "markdown",
   "metadata": {},
   "source": [
    "<img src=\"https://www.cns.nyu.edu/~david/handouts/sdt/internal-response2.gif\">"
   ]
  },
  {
   "cell_type": "markdown",
   "metadata": {},
   "source": [
    "### Problem 5: Discriminability\n",
    "We can quantify the discriminability by computing the 'overlap' of the two distribution. What is $d'$ (distance between means) for each of these stimuli?\n",
    "\n",
    "- Compute $d$ for $p(r|r_+)$ and $p(r|r_-)$ depending on the coherence of the motion for coherence values $c\\in \\{0.1, 0.4, 0.7, 1.0 \\}$.\n",
    "Assume $$ p(r) = \\frac{1}{\\sqrt{2\\pi}\\sigma} exp\\left(-\\frac{(r-r_m)^2}{2 \\sigma^2}\\right) $$\n",
    "with mean $r_m = r_{+/-}$ and $\\sigma = 10+2/s$.\n",
    "Ignore the fact that there should be a minimum and maximum firing rate.\n",
    "\n",
    "- What are assumption did we make to compute $d$? For which coherence values are the assumptions justified?\n",
    "\n",
    "- What can we conclude from different values of $d$?"
   ]
  },
  {
   "cell_type": "markdown",
   "metadata": {},
   "source": [
    "### Problem 6: Size and power\n",
    "Compute the size and the power of the threshold test for coherence values $c\\in \\{0.1, 0.4, 0.7, 1.0 \\}$. Vary the threshold $z$.\n"
   ]
  },
  {
   "cell_type": "code",
   "execution_count": null,
   "metadata": {},
   "outputs": [],
   "source": [
    "def alpha(c,z):\n",
    "    # TODO\n",
    "    return alpha_z\n",
    "\n",
    "def beta(c,z):\n",
    "    # TODO\n",
    "    return beta_z"
   ]
  },
  {
   "cell_type": "code",
   "execution_count": null,
   "metadata": {},
   "outputs": [],
   "source": [
    "alpha(0.5, 40), beta(0.5, 40)"
   ]
  },
  {
   "cell_type": "markdown",
   "metadata": {},
   "source": [
    "### Problem 7: Receiver Operating Characteristic"
   ]
  },
  {
   "cell_type": "markdown",
   "metadata": {},
   "source": [
    "ROC charactersizes discrimination performance for all threshold ($z$) choices."
   ]
  },
  {
   "cell_type": "markdown",
   "metadata": {},
   "source": [
    "<img src=\"https://www.cns.nyu.edu/~david/handouts/sdt/criterion.gif\">"
   ]
  },
  {
   "cell_type": "markdown",
   "metadata": {},
   "source": [
    "Use the results from the previous excercise to plot the ROC-curve for coherence values $c\\in \\{0.1, 0.4, 0.7, 1.0 \\}$.\n",
    "Use integer values between 0 and 100 for the threshold $z$."
   ]
  },
  {
   "cell_type": "code",
   "execution_count": null,
   "metadata": {},
   "outputs": [],
   "source": [
    "fig = plt.figure(figsize=(3,2),dpi=150)\n",
    "ax= fig.add_subplot(111)\n",
    "ax.plot([0,1],[0,1],'k--')\n",
    "z = np.arange(0,101,1)\n",
    "for c_i in [0.1, 0.4, 0.7, 1.0 ]:\n",
    "    # TODO compute alpha and beta\n",
    "    ax.plot(alpha_z, beta_z, label=str(c_i))\n",
    "\n",
    "ax.legend()\n",
    "ax.set_xlabel(r'$\\alpha$')    \n",
    "ax.set_ylabel(r'$\\beta$')    \n"
   ]
  },
  {
   "cell_type": "markdown",
   "metadata": {},
   "source": [
    "### Problem 8: Performance of the test in a two alternative force-choice task\n",
    "To evaluate the performance of the test (probablity of beeing right) in a two alternative force-choice task, compute the area under the ROC curves depending on the motion coherence. \n",
    "\n",
    "How strong do we have to choose the coherence of the dot motion to make the right decision in at least 80% of the cases?\n",
    "\n"
   ]
  },
  {
   "cell_type": "code",
   "execution_count": null,
   "metadata": {},
   "outputs": [],
   "source": [
    "def area_under_ROC_curve(coherence,):\n",
    "    z = np.arange(0,101,1)\n",
    "    alpha_z = [alpha(coherence, z_i) for z_i in z]\n",
    "    beta_z = [beta(coherence, z_i) for z_i in z]\n",
    "    area = 0.\n",
    "    for i in range(len(z)-1):\n",
    "        d_alpha_i = np.abs(alpha_z[i+1]-alpha_z[i])\n",
    "        beta_i = (beta_z[i+1]+beta_z[i])/2.\n",
    "        area += d_alpha_i*beta_i\n",
    "    return area"
   ]
  },
  {
   "cell_type": "code",
   "execution_count": null,
   "metadata": {},
   "outputs": [],
   "source": [
    "c_i = 0.5\n",
    "area_under_curve = area_under_ROC_curve(c_i)\n",
    "area_under_curve"
   ]
  },
  {
   "cell_type": "code",
   "execution_count": null,
   "metadata": {},
   "outputs": [],
   "source": [
    "#TODO analyze performance of the test depending on random dot-motion coherence\n"
   ]
  },
  {
   "cell_type": "code",
   "execution_count": null,
   "metadata": {},
   "outputs": [],
   "source": []
  }
 ],
 "metadata": {
  "anaconda-cloud": {},
  "kernelspec": {
   "display_name": "biokurs (Python 3.8)",
   "language": "python",
   "name": "python3"
  },
  "language_info": {
   "codemirror_mode": {
    "name": "ipython",
    "version": 3
   },
   "file_extension": ".py",
   "mimetype": "text/x-python",
   "name": "python",
   "nbconvert_exporter": "python",
   "pygments_lexer": "ipython3",
   "version": "3.8.11"
  }
 },
 "nbformat": 4,
 "nbformat_minor": 4
}
