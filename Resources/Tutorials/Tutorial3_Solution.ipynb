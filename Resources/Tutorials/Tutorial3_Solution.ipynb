{
 "cells": [
  {
   "cell_type": "markdown",
   "metadata": {},
   "source": [
    "# Notebook 3: Spike-train statistics\n",
    "\n",
    "Computational Biology 2 - WS 23/24\n",
    "\n",
    "Notebooks are based on material created by Katharina Bracher."
   ]
  },
  {
   "cell_type": "code",
   "execution_count": 28,
   "metadata": {},
   "outputs": [],
   "source": [
    "import matplotlib.pyplot as plt\n",
    "import numpy as np"
   ]
  },
  {
   "cell_type": "markdown",
   "metadata": {},
   "source": [
    "### Problem 1: Important Terms and Definitions\n",
    "Before working on the Notebook answer the following questions:\n",
    "\n",
    "- What is the interspike interval?\n",
    "- In general, what is the distribution of a Poisson random variable?\n",
    "- How to choose the parameter of the Poisson distribution in the case of spike trains?\n",
    "- What is the distribution of interspike intervals for a homogenous Poisson process?\n",
    "- What is the coefficient of variation?\n",
    "- What is the the Fano factor?"
   ]
  },
  {
   "cell_type": "markdown",
   "metadata": {},
   "source": [
    "---\n",
    "### Load the data"
   ]
  },
  {
   "cell_type": "markdown",
   "metadata": {},
   "source": [
    "We will work with the data set in `spiketrains.npz`. Let's load it.\n",
    "Print the dataset and explain its structure."
   ]
  },
  {
   "cell_type": "code",
   "execution_count": 29,
   "metadata": {},
   "outputs": [],
   "source": [
    "with np.load('./datasets/spiketrains.npz', allow_pickle=True) as data:\n",
    "    spikes1 = data['spikes3_0'].tolist()\n",
    "    spikes2 = data['spikes7_5'].tolist()"
   ]
  },
  {
   "cell_type": "markdown",
   "metadata": {},
   "source": [
    "`spiketrains.npz` contains two lists `spikes3_0` and `spikes7_5`, which we call `spikes1` and `spikes2` here for simplicity. Both lists contain several `numpy` arrays. Each array corresponds to a single trial and contains the times of the spikes fired in this trial. All trials are aligend at their start, i.e. spike times are relative to trial start. `spikes3_0` are responses to a 3 second stimulus und `spikes7_5` are responses to a 7.5 s stimulus. \n",
    "Have a look at the lists to understand the buildup."
   ]
  },
  {
   "cell_type": "code",
   "execution_count": 30,
   "metadata": {},
   "outputs": [],
   "source": [
    "# create json file, save it on disk and load it again\n",
    "# you can ignore this cell \n",
    "\n",
    "execute =False\n",
    "if execute:\n",
    "    spikes1 = [arr.tolist() for arr in spikes1]\n",
    "    spikes2 = [arr.tolist() for arr in spikes2]\n",
    "\n",
    "    import json\n",
    "\n",
    "    json_data = {'spikes1': spikes1, 'spikes2': spikes2}\n",
    "\n",
    "    with open('./datasets/spiketrains.json', 'w') as json_file:\n",
    "        json.dump(json_data, json_file)\n",
    "\n",
    "    with open('./datasets/spiketrains.json', 'r') as json_file:\n",
    "        json_data = json.load(json_file)\n",
    "\n",
    "    spikes1 = json_data['spikes1']\n",
    "    spikes2 = json_data['spikes2']\n",
    "\n",
    "    print(spikes1)\n",
    "    print(spikes2)\n"
   ]
  },
  {
   "cell_type": "markdown",
   "metadata": {},
   "source": [
    "### Problem 2: Spike raster plot\n",
    "Make an individual spike raster plot for the two lists of spike trains. For each trial, plot the spike times as a small tickmark (or dot). As the y-axis-value use the trial number. \n",
    "\n",
    "Hint: use the pyplot-method vlines()."
   ]
  },
  {
   "cell_type": "code",
   "execution_count": 31,
   "metadata": {},
   "outputs": [
    {
     "data": {
      "text/plain": [
       "(0.0, 7.5)"
      ]
     },
     "execution_count": 31,
     "metadata": {},
     "output_type": "execute_result"
    },
    {
     "data": {
      "image/png": "[encoded data removed]",
      "text/plain": [
       "<Figure size 720x216 with 2 Axes>"
      ]
     },
     "metadata": {
      "needs_background": "light"
     },
     "output_type": "display_data"
    }
   ],
   "source": [
    "fig, ax = plt.subplots(1, 2, figsize=(10, 3))\n",
    "for i, st in enumerate(spikes1):\n",
    "    ax[0].vlines(st, i, i+1, color='k')\n",
    "for i, st in enumerate(spikes2):\n",
    "    ax[1].vlines(st, i, i+1, color='k')\n",
    "\n",
    "\n",
    "ax[0].set_xlabel('Time (s)')\n",
    "ax[0].set_ylabel('Trial #')\n",
    "ax[1].set_xlabel('Time (s)')\n",
    "ax[0].set_xlim(0, 3)\n",
    "ax[1].set_xlim(0, 7.5)"
   ]
  },
  {
   "cell_type": "markdown",
   "metadata": {},
   "source": [
    "### Problem 3: Spike count rate and trial averaged spike count rate\n",
    "Calculate and plot the spike count rate (Hz) in each trial for each list. Also mark the average spike count rate, e.g. using `matplotlib`'s `axhline`. \n",
    "\n",
    "Plot the trial number on the x-axis and the spike count rate and the trial averaged value on the y-axis."
   ]
  },
  {
   "cell_type": "code",
   "execution_count": 32,
   "metadata": {},
   "outputs": [
    {
     "data": {
      "text/plain": [
       "Text(0.5, 0, 'Trial #')"
      ]
     },
     "execution_count": 32,
     "metadata": {},
     "output_type": "execute_result"
    },
    {
     "data": {
      "image/png": "[encoded data removed]",
      "text/plain": [
       "<Figure size 720x216 with 2 Axes>"
      ]
     },
     "metadata": {
      "needs_background": "light"
     },
     "output_type": "display_data"
    }
   ],
   "source": [
    "fig, axes = plt.subplots(1, 2, figsize=(10, 3))\n",
    "for i, st in enumerate(spikes1):\n",
    "    axes[0].plot(i+1, st.size/3., 'k.')\n",
    "for i, st in enumerate(spikes2):\n",
    "    axes[1].plot(i+1, st.size/7.5, 'k.')\n",
    "\n",
    "axes[0].axhline(np.concatenate(spikes1).size/3.0/len(spikes1))\n",
    "axes[1].axhline(np.concatenate(spikes2).size/7.5/len(spikes2))\n",
    "    \n",
    "axes[0].set_ylabel('Firing rate (Hz)')\n",
    "axes[0].set_xlabel('Trial #')\n",
    "axes[1].set_xlabel('Trial #')"
   ]
  },
  {
   "cell_type": "markdown",
   "metadata": {},
   "source": [
    "### Problem 4: Interspike interval histogram\n",
    "Compute the interspike interval histograms for both spike lists. What is the minimal inter spike interval for the both spike lists?"
   ]
  },
  {
   "cell_type": "code",
   "execution_count": 33,
   "metadata": {},
   "outputs": [
    {
     "data": {
      "image/png": "[encoded data removed]",
      "text/plain": [
       "<Figure size 720x216 with 2 Axes>"
      ]
     },
     "metadata": {
      "needs_background": "light"
     },
     "output_type": "display_data"
    }
   ],
   "source": [
    "fig, axes = plt.subplots(1, 2, figsize=(10, 3))\n",
    "\n",
    "isis1 = []\n",
    "for i, st in enumerate(spikes1):\n",
    "    isis1.append(np.diff(st))\n",
    "isis1 = np.concatenate(isis1)\n",
    "    \n",
    "isis2 = []\n",
    "for i, st in enumerate(spikes2):\n",
    "    isis2.append(np.diff(st))\n",
    "isis2 = np.concatenate(isis2)\n",
    "\n",
    "axes[0].hist(isis1, 20)\n",
    "axes[1].hist(isis2, 50)\n",
    "\n",
    "\n",
    "axes[0].set_ylabel('#')\n",
    "axes[0].set_xlabel('ISI (s)')\n",
    "axes[1].set_xlabel('ISI (s)')\n",
    "plt.show()"
   ]
  },
  {
   "cell_type": "code",
   "execution_count": 34,
   "metadata": {},
   "outputs": [
    {
     "name": "stdout",
     "output_type": "stream",
     "text": [
      "0.025799999999890133\n",
      "0.015199999999822467\n"
     ]
    }
   ],
   "source": [
    "print(min(isis1))\n",
    "print(min(isis2))"
   ]
  },
  {
   "cell_type": "markdown",
   "metadata": {},
   "source": [
    "---\n",
    "### Problem 5: Poisson spike generator"
   ]
  },
  {
   "cell_type": "markdown",
   "metadata": {},
   "source": [
    "Read the section *The Poisson Spike Generator* in Theoretical Neuroscience by Dayan & Abbott (p. 30).\n",
    "\n",
    "- Explain how to generate a Poisson spike train."
   ]
  },
  {
   "cell_type": "markdown",
   "metadata": {},
   "source": [
    "### Problem 6: Simulation of Poisson spikes\n",
    "Simulate a spike train of Poisson spikes. The length of the simulated interval should be 1 s and the average firing rate $r$ should be 20 Hz. Plot the spike train.\n",
    "    \n",
    "Write a function, that computes spike times iteratively by generating inter spike intervals and plot the raster plot. Use the formular \n",
    "$$ t_{i+1} = t_i - ln(x_{\\text{rand}})/r $$\n",
    "\n",
    "Explain the recursion above.\n",
    "Hint: Distribution of interspike intervals."
   ]
  },
  {
   "cell_type": "code",
   "execution_count": 35,
   "metadata": {},
   "outputs": [],
   "source": [
    "def poissonspikes_ISI(rate, time):\n",
    "    spikes = []\n",
    "    t = 0\n",
    "    while t < time:\n",
    "        t -= np.log(np.random.rand())/rate\n",
    "        spikes.append(t)\n",
    "    return spikes[:-1]"
   ]
  },
  {
   "cell_type": "code",
   "execution_count": 36,
   "metadata": {},
   "outputs": [
    {
     "data": {
      "text/plain": [
       "Text(0.5, 0, 'Time (s)')"
      ]
     },
     "execution_count": 36,
     "metadata": {},
     "output_type": "execute_result"
    },
    {
     "data": {
      "image/png": "[encoded data removed]",
      "text/plain": [
       "<Figure size 432x288 with 1 Axes>"
      ]
     },
     "metadata": {
      "needs_background": "light"
     },
     "output_type": "display_data"
    }
   ],
   "source": [
    "rate = 20  # Hz\n",
    "time = 1 # s\n",
    "poisson_spike_times = poissonspikes_ISI(rate, time)\n",
    "\n",
    "plt.vlines(poisson_spike_times, ymin=0, ymax=1, color='k')\n",
    "plt.xlabel('Time (s)')"
   ]
  },
  {
   "cell_type": "markdown",
   "metadata": {},
   "source": [
    "### Problem 7: Raster plot of Poisson spike trains\n",
    "Make a raster plot of 20 trials of Poisson spike trains. \n",
    "Verify that the histogram of spike counts follows a normal distribution and the histogram of interspike intervals an exponential distribution (you might want to increase the trials to 1000). What is the minimal ISI?"
   ]
  },
  {
   "cell_type": "code",
   "execution_count": 37,
   "metadata": {},
   "outputs": [
    {
     "data": {
      "image/png": "[encoded data removed]",
      "text/plain": [
       "<Figure size 1080x216 with 3 Axes>"
      ]
     },
     "metadata": {
      "needs_background": "light"
     },
     "output_type": "display_data"
    }
   ],
   "source": [
    "trials=1000\n",
    "isis = []\n",
    "spike_count = []\n",
    "\n",
    "fig, ax = plt.subplots(1, 3, figsize=(15, 3))\n",
    "\n",
    "for i in range(trials):\n",
    "    poisson_spike_times = poissonspikes_ISI(rate, time)\n",
    "    isis.append(np.diff(poisson_spike_times))\n",
    "    spike_count.append(len(poisson_spike_times))\n",
    "    if i < 21:\n",
    "        ax[0].vlines(poisson_spike_times, i, i+1, color='k')\n",
    "    \n",
    "isis = np.concatenate(isis)\n",
    "\n",
    "ax[1].hist(isis, 50, density=True)\n",
    "ax[2].hist(spike_count)\n",
    "\n",
    "ax[0].set_ylabel('Trial #')\n",
    "ax[0].set_xlabel('Time (s)')\n",
    "ax[1].set_ylabel('probability density')\n",
    "ax[1].set_xlabel('ISI (s)')\n",
    "ax[2].set_ylabel('#')\n",
    "ax[2].set_xlabel('spikes #')\n",
    "plt.tight_layout()"
   ]
  },
  {
   "cell_type": "code",
   "execution_count": 38,
   "metadata": {},
   "outputs": [
    {
     "data": {
      "text/plain": [
       "2.360995622563422e-06"
      ]
     },
     "execution_count": 38,
     "metadata": {},
     "output_type": "execute_result"
    }
   ],
   "source": [
    "min(isis)"
   ]
  },
  {
   "cell_type": "markdown",
   "metadata": {},
   "source": [
    "probability of neruon firing p(spike)=r*dt\n",
    "probability of neruon NOT firing p(n spikes)/dt = rate\n",
    "1-p(n spikes)=1-(r*dt)"
   ]
  },
  {
   "cell_type": "markdown",
   "metadata": {},
   "source": [
    "### Problem 8: Statistics of spike trains\n",
    "Evaluate if your Poisson spikes are indeed in line with the typical spike train statistics for the Poisson process like the coefficient of variation of the ISIs. To calculate the Fano factor, you need more than one spike train. Run the simulations 1000 times and always store the spike counts.\n",
    "\n",
    "***Can you judge whether the analzed spike trains (Problems 1-3) are generated from a homogenous Poisson process? Explain.***"
   ]
  },
  {
   "cell_type": "code",
   "execution_count": 39,
   "metadata": {},
   "outputs": [],
   "source": [
    "poisson_spike_times = poissonspikes_ISI(rate, time)"
   ]
  },
  {
   "cell_type": "code",
   "execution_count": 40,
   "metadata": {},
   "outputs": [
    {
     "name": "stdout",
     "output_type": "stream",
     "text": [
      "CV: 1.2331021007754992\n"
     ]
    }
   ],
   "source": [
    "poisson_isis = np.diff(poisson_spike_times)\n",
    "print('CV:', poisson_isis.std()/poisson_isis.mean())"
   ]
  },
  {
   "cell_type": "code",
   "execution_count": 41,
   "metadata": {},
   "outputs": [],
   "source": [
    "spks_count = []\n",
    "for run in range(1000):\n",
    "    poisson_spike_times = poissonspikes_ISI(rate, time)\n",
    "    spks_count.append(len(poisson_spike_times))"
   ]
  },
  {
   "cell_type": "code",
   "execution_count": 42,
   "metadata": {},
   "outputs": [
    {
     "name": "stdout",
     "output_type": "stream",
     "text": [
      "Fano factor: 1.0114855433698904\n"
     ]
    }
   ],
   "source": [
    "print('Fano factor:', np.var(spks_count)/np.mean(spks_count))"
   ]
  },
  {
   "cell_type": "markdown",
   "metadata": {},
   "source": [
    "### Problem 9:\n",
    "Repeat 6)-8) but write a new function that produces spike times using $r \\Delta t$:\n",
    "the probability of a spike in a small time step $\\Delta t$ for a Poisson process is $p[1] = r \\Delta t$. To generate Poisson spikes simply sample a random numbers that are uniformly distributed between 0 and 1 ( __Hint__: `np.random.rand`) for each time bin. If the random number is below $r \\Delta t$ emit a spike."
   ]
  },
  {
   "cell_type": "code",
   "execution_count": 45,
   "metadata": {},
   "outputs": [
    {
     "data": {
      "text/plain": [
       "100000"
      ]
     },
     "execution_count": 45,
     "metadata": {},
     "output_type": "execute_result"
    }
   ],
   "source": [
    "dt = 0.00001 # How tho choose dt?\n",
    "np.arange(0, time, dt).size"
   ]
  },
  {
   "cell_type": "code",
   "execution_count": 46,
   "metadata": {},
   "outputs": [],
   "source": [
    "def homogeneous_poisson(rate, time, dt):\n",
    "    times = np.arange(0, time, dt)\n",
    "    spikes = np.random.rand(times.size) < rate * dt\n",
    "    return times, spikes"
   ]
  },
  {
   "cell_type": "code",
   "execution_count": 47,
   "metadata": {},
   "outputs": [
    {
     "name": "stdout",
     "output_type": "stream",
     "text": [
      "0.02\n"
     ]
    }
   ],
   "source": [
    "rate = 20  # in Hz\n",
    "dt = .001   # in s\n",
    "print(rate*dt)\n",
    "time = 1\n",
    "\n",
    "times, spikes = homogeneous_poisson(rate, time, dt)"
   ]
  },
  {
   "cell_type": "code",
   "execution_count": 48,
   "metadata": {},
   "outputs": [
    {
     "data": {
      "text/plain": [
       "Text(0.5, 0, 'Time (s)')"
      ]
     },
     "execution_count": 48,
     "metadata": {},
     "output_type": "execute_result"
    },
    {
     "data": {
      "image/png": "[encoded data removed]",
      "text/plain": [
       "<Figure size 432x288 with 1 Axes>"
      ]
     },
     "metadata": {
      "needs_background": "light"
     },
     "output_type": "display_data"
    }
   ],
   "source": [
    "plt.plot(times, spikes, '-')\n",
    "plt.xlabel('Time (s)')"
   ]
  },
  {
   "cell_type": "code",
   "execution_count": 49,
   "metadata": {},
   "outputs": [
    {
     "data": {
      "text/plain": [
       "Text(0.5, 0, 'spikes #')"
      ]
     },
     "execution_count": 49,
     "metadata": {},
     "output_type": "execute_result"
    },
    {
     "data": {
      "image/png": "[encoded data removed]",
      "text/plain": [
       "<Figure size 1080x216 with 3 Axes>"
      ]
     },
     "metadata": {
      "needs_background": "light"
     },
     "output_type": "display_data"
    }
   ],
   "source": [
    "trials=1000\n",
    "rate=20\n",
    "time = 1\n",
    "isis = []\n",
    "spike_count = []\n",
    "\n",
    "fig, ax = plt.subplots(1, 3, figsize=(15, 3))\n",
    "for i, run in enumerate(range(trials)):\n",
    "    times, spikes = homogeneous_poisson(rate, time, dt)\n",
    "    poisson_spike_times = times[spikes]\n",
    "    isis.append(np.diff(poisson_spike_times))\n",
    "    spike_count.append(len(poisson_spike_times))\n",
    "    if i < 21:\n",
    "        ax[0].vlines(poisson_spike_times, i, i+1, color='k')\n",
    "    \n",
    "isis = np.concatenate(isis)\n",
    "\n",
    "ax[1].hist(isis, 50, density=True)\n",
    "ax[2].hist(spike_count)\n",
    "\n",
    "ax[0].set_ylabel('Trial #')\n",
    "ax[0].set_xlabel('Time (s)')\n",
    "ax[1].set_ylabel('probability density')\n",
    "ax[1].set_xlabel('ISI (s)')\n",
    "ax[2].set_ylabel('#')\n",
    "ax[2].set_xlabel('spikes #')"
   ]
  },
  {
   "cell_type": "code",
   "execution_count": 50,
   "metadata": {},
   "outputs": [],
   "source": [
    "times, spikes = homogeneous_poisson(rate, time, dt)\n",
    "poisson_spike_times = times[spikes]"
   ]
  },
  {
   "cell_type": "code",
   "execution_count": 51,
   "metadata": {},
   "outputs": [
    {
     "name": "stdout",
     "output_type": "stream",
     "text": [
      "CV: 0.964588254748804\n"
     ]
    }
   ],
   "source": [
    "poisson_isis = np.diff(poisson_spike_times)\n",
    "print('CV:', poisson_isis.std()/poisson_isis.mean())"
   ]
  },
  {
   "cell_type": "code",
   "execution_count": 52,
   "metadata": {},
   "outputs": [],
   "source": [
    "spks_count = []\n",
    "for run in range(1000):\n",
    "    _, spikes = homogeneous_poisson(rate, time, dt)\n",
    "    spks_count.append(spikes.sum())"
   ]
  },
  {
   "cell_type": "code",
   "execution_count": 53,
   "metadata": {},
   "outputs": [
    {
     "name": "stdout",
     "output_type": "stream",
     "text": [
      "Fano factor: 1.008528735632184\n"
     ]
    }
   ],
   "source": [
    "print('Fano factor:', np.var(spks_count)/np.mean(spks_count))"
   ]
  },
  {
   "cell_type": "code",
   "execution_count": null,
   "metadata": {},
   "outputs": [],
   "source": []
  }
 ],
 "metadata": {
  "kernelspec": {
   "display_name": "biokurs (Python 3.8)",
   "language": "python",
   "name": "python3"
  },
  "language_info": {
   "codemirror_mode": {
    "name": "ipython",
    "version": 3
   },
   "file_extension": ".py",
   "mimetype": "text/x-python",
   "name": "python",
   "nbconvert_exporter": "python",
   "pygments_lexer": "ipython3",
   "version": "3.8.11"
  }
 },
 "nbformat": 4,
 "nbformat_minor": 4
}
