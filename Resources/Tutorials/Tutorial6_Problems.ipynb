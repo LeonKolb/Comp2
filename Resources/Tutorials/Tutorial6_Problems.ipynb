{
 "cells": [
  {
   "cell_type": "markdown",
   "metadata": {},
   "source": [
    "# Notebook 6: Population Decoding\n",
    "\n",
    "Computational Biology 2 - WS 23/24\n",
    "\n",
    "Material created by Katharina Bracher and Florian Eberhardt.\n"
   ]
  },
  {
   "cell_type": "code",
   "execution_count": 2,
   "metadata": {},
   "outputs": [],
   "source": [
    "import numpy as np\n",
    "import matplotlib.pyplot as plt\n",
    "import pandas as pd\n",
    "import pickle"
   ]
  },
  {
   "cell_type": "markdown",
   "metadata": {},
   "source": [
    "---\n",
    "## Population Coding in Vision"
   ]
  },
  {
   "cell_type": "markdown",
   "metadata": {},
   "source": [
    "Information is encoded in the brain by populations or clusters of cells, rather than by single cells. This encoding strategy is known as population coding."
   ]
  },
  {
   "cell_type": "markdown",
   "metadata": {},
   "source": [
    "<img src=\"https://www.cns.nyu.edu/~david/courses/perception/lecturenotes/V1/LGN-V1-slides/Slide15.jpg\" width=\"500\">"
   ]
  },
  {
   "cell_type": "markdown",
   "metadata": {},
   "source": [
    "<img src=\"https://media.springernature.com/full/springer-static/image/art%3A10.1038%2F35039062/MediaObjects/41583_2000_Article_BF35039062_Fig1_HTML.gif\" width=\"500\">\n",
    "\n",
    "a | Bell-shaped tuning curves to direction for 16 neurons. b | A population pattern of activity across 64 neurons with bell-shaped tuning curves in response to an object moving at −40°. The activity of each cell was generated using eqn 1, and plotted at the location of the preferred direction of the cell. The overall activity looks like a `noisy' hill centred around the stimulus direction. c | Population vector decoding fits a cosine function to the observed activity, and uses the peak of the cosine function, ŝ, as an estimate of the encoded direction. d | Maximum likelihood fits a template derived from the tuning curves of the cells. More precisely, the template is obtained from the noiseless (or average) population activity in response to a stimulus moving in direction s. The peak position of the template with the best fit, ŝ, corresponds to the maximum likelihood estimate, that is, the value that maximizes P(r | s).\n",
    "\n",
    "Source: https://www.nature.com/articles/35039062\n",
    "\n",
    "---"
   ]
  },
  {
   "cell_type": "markdown",
   "metadata": {},
   "source": [
    "## Head direction cells in flys\n",
    "https://www.youtube.com/watch?v=9x3VXgKS7VI"
   ]
  },
  {
   "cell_type": "markdown",
   "metadata": {},
   "source": [
    "Today we will simulate a population of orientation-selective neurons that encode the fly's head direction and use population vectors to first estimate the neurons preferred orientations and then decode the fly's head direction  from the population activity."
   ]
  },
  {
   "cell_type": "markdown",
   "metadata": {},
   "source": [
    "## Simulation of recording data\n",
    "\n",
    "To simulate the neurons we will use: \n",
    "- Poisson spike statistics,\n",
    "- Gaussian tuning of width $\\sigma=60°$ and \n",
    "- maximal response of 100 spikes/sec\n",
    "\n",
    "Neurons have random preferred orientations between 0-360° \n"
   ]
  },
  {
   "cell_type": "markdown",
   "metadata": {},
   "source": [
    "### Load data"
   ]
  },
  {
   "cell_type": "code",
   "execution_count": 3,
   "metadata": {},
   "outputs": [],
   "source": [
    "data = pickle.load(open('./data/population_recordings.pcl','rb'))\n",
    "\n",
    "preferred_orientations = data[\"preferred_orientations\"]\n",
    "stimulus_orientations_train = data[\"stimulus_orientations_train\"]\n",
    "stimulus_orientations_test = data[\"stimulus_orientations_test\"]\n",
    "neurons = data['neurons']\n",
    "recordings_train = data[\"recordings_train\"]\n",
    "recordings_test = data[\"recordings_test\"]\n",
    "t = data['time']\n",
    "\n",
    "def read_spike_times(recordings, neuron, stim_orientation):\n",
    "    st = recordings.loc[neuron, stim_orientation]\n",
    "    st = np.frombuffer(st, dtype=float)\n",
    "    return st"
   ]
  },
  {
   "cell_type": "code",
   "execution_count": 6,
   "metadata": {},
   "outputs": [
    {
     "name": "stdout",
     "output_type": "stream",
     "text": [
      "neuron: 1\n",
      "head direction stimulus [deg]: 40.0\n",
      "spike times [sec]: [0.09292701 0.11999187 0.17817607 0.18131857 0.26907239 0.372534\n",
      " 0.4351035  0.44058135 0.47262364 0.49244651 0.49707111 0.54719908\n",
      " 0.68718636 1.10071975 1.11630772 1.42148289 1.44227269 1.53956907\n",
      " 1.57830403 1.68551129 1.72189407 1.73130681 1.73679472 1.81606822\n",
      " 1.82959407 1.84330603 1.85463438 1.85731116 2.00688521 2.06737075\n",
      " 2.16518624 2.29088348 2.37924501 2.387674   2.38797617 2.41789004\n",
      " 2.45687777 2.48360143 2.51128296 2.5548427  2.5617728  2.60102699\n",
      " 2.6102038  2.70784322 2.76170128 3.0423962  3.14177236 3.14489783\n",
      " 3.15921038 3.27287378 3.37134111 3.43517415 3.5537352  4.14259165\n",
      " 4.35550551 4.56360927 4.69978761 4.74611087 4.79121768 4.8679919\n",
      " 4.86969658 4.92654877 4.97370581 5.06407543 5.0879831  5.23383913\n",
      " 5.39230079 5.41713568 5.44157366 5.47803967 5.52294716 5.74234296\n",
      " 5.93486394 5.94906681 5.97166858 6.0009813  6.04889183 6.09520286\n",
      " 6.18484129 6.1900686  6.25818183 6.34909072 6.37615509 6.44811576\n",
      " 6.57048332 6.63908944 6.6453042  6.86569456 6.88354901 6.97397662\n",
      " 7.02002119 7.19018336 7.34765406 7.39960075 7.47666781 7.50185512\n",
      " 7.53358156 7.57073635 7.64236646 7.69479763 7.72892923 7.85662164\n",
      " 7.90410866 7.93352361 7.9974081  8.06161987 8.16379091 8.23626631\n",
      " 8.36237571 8.65117253 8.67797106 8.72287908 8.77420233 9.11860454\n",
      " 9.33610198 9.34534226 9.4001844  9.58238162 9.61682975 9.74697993\n",
      " 9.78781434 9.8297052  9.92883133 9.94255943]\n"
     ]
    }
   ],
   "source": [
    "ni = neurons[1]\n",
    "stim = stimulus_orientations_train[4]\n",
    "spike_times = read_spike_times(recordings_train, ni, stim)\n",
    "print('neuron:', ni)\n",
    "print('head direction stimulus [deg]:', stim)\n",
    "print('spike times [sec]:',spike_times)"
   ]
  },
  {
   "cell_type": "markdown",
   "metadata": {},
   "source": [
    "### Problem 1: Spike count rate\n",
    "FOr each neuron in the data set estimate the mean spike count rate for all stimuli (head direction).\n",
    "\n",
    "- The recorded neurons can be found in the np-array: `neurons`\n",
    "- The stimulus head direction can be found in the np-array: `stimulus_orientations_train`\n",
    "- recording data can be found in:`recordings_train`\n",
    "- to get the spike times call the function: `read_spike_times`\n",
    "- call matshow() from pyplot to visualize the spike count rates depending on neuron and stimulus"
   ]
  },
  {
   "cell_type": "code",
   "execution_count": null,
   "metadata": {},
   "outputs": [],
   "source": []
  },
  {
   "cell_type": "markdown",
   "metadata": {},
   "source": [
    "### Problem 2: Tuning curve\n",
    "Each recorded cell responds best to a certain head direction. Visualize the tuning curves for different cells depending on the stiumulus (orientation / head direction). Plot the spike count rate of a cell depending on the stimulus."
   ]
  },
  {
   "cell_type": "code",
   "execution_count": null,
   "metadata": {},
   "outputs": [],
   "source": []
  },
  {
   "cell_type": "markdown",
   "metadata": {},
   "source": [
    "### Problem 3: Preferred orientation decoding \n",
    "Estimate the preferred orientations of each individual neuron. You can do this by representing all stimulus directions by vectors in a 2D cartesian coordinate system. Wheight each vector by the spike count rate of a cell for this particular stiumulus and then sum over all vectors. The resulting vector is the preferred orientation of the neuron. Compare the estimated preferred orientations to the actual preferred orientations."
   ]
  },
  {
   "cell_type": "code",
   "execution_count": null,
   "metadata": {},
   "outputs": [],
   "source": []
  },
  {
   "cell_type": "markdown",
   "metadata": {},
   "source": [
    "### Problem 4: Population decoding of head direction\n",
    "Make use of population vectors to decode the the stimulus orientations in the test data set. \n",
    "You have computed the preferred orientation of each cell in the previous excercise. Represent the preferred orientation of each cell as a vector in a 2D cartesian space. Wheight each vector by the spike count rate of the cell and then sum over all vectors. The orientation of the resulting vector is the decoded stimulus. Compare the decoded values to the presented stimuli."
   ]
  },
  {
   "cell_type": "code",
   "execution_count": null,
   "metadata": {},
   "outputs": [],
   "source": []
  },
  {
   "cell_type": "code",
   "execution_count": null,
   "metadata": {},
   "outputs": [],
   "source": []
  }
 ],
 "metadata": {
  "kernelspec": {
   "display_name": "biokurs (Python 3.8)",
   "language": "python",
   "name": "python3"
  },
  "language_info": {
   "codemirror_mode": {
    "name": "ipython",
    "version": 3
   },
   "file_extension": ".py",
   "mimetype": "text/x-python",
   "name": "python",
   "nbconvert_exporter": "python",
   "pygments_lexer": "ipython3",
   "version": "3.8.11"
  }
 },
 "nbformat": 4,
 "nbformat_minor": 4
}
