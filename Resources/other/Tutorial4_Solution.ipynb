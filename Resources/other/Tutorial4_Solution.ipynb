{
 "cells": [
  {
   "cell_type": "markdown",
   "metadata": {},
   "source": [
    "# Notebook 4: Inhomogeneous Poisson Process\n",
    "\n",
    "Computational Biology 2 - WS 23/24\n",
    "\n",
    "Notebooks are based on material created by Katharina Bracher.\n"
   ]
  },
  {
   "cell_type": "code",
   "execution_count": 3,
   "metadata": {},
   "outputs": [],
   "source": [
    "import numpy as np\n",
    "import matplotlib.pyplot as plt"
   ]
  },
  {
   "cell_type": "markdown",
   "metadata": {},
   "source": [
    "### Problem 1: \n",
    "\n",
    "Can you judge whether the analzed spike trains of yesterday's notebook (Problems 1-3) are generated from a homogenous Poisson process? Explain."
   ]
  },
  {
   "cell_type": "code",
   "execution_count": 2,
   "metadata": {},
   "outputs": [],
   "source": [
    "with np.load('./data/spiketrains.npz', allow_pickle=True) as data:\n",
    "    spikes1 = data['spikes3_0'].tolist()\n",
    "    spikes2 = data['spikes7_5'].tolist()"
   ]
  },
  {
   "cell_type": "code",
   "execution_count": 28,
   "metadata": {},
   "outputs": [
    {
     "data": {
      "image/png": "[encoded data removed]",
      "text/plain": [
       "<Figure size 900x600 with 2 Axes>"
      ]
     },
     "metadata": {
      "needs_background": "light"
     },
     "output_type": "display_data"
    }
   ],
   "source": [
    "# comput Fano factor, CV \n",
    "# show histogram of ISIs and compare it the the theoretically predicted densitiy function \n",
    "# of a homogenous Poisson proccess with the identical rate.\n",
    "\n",
    "t_max_1 = 3.0\n",
    "t_max_2 = 7.5\n",
    "\n",
    "isis1 = []\n",
    "counts1 = []\n",
    "for i, st in enumerate(spikes1):\n",
    "    isis1.append(np.diff(st))\n",
    "    counts1.append(len(st))\n",
    "isis1 = np.concatenate(isis1)\n",
    "    \n",
    "isis2 = []\n",
    "counts2 = []\n",
    "for i, st in enumerate(spikes2):\n",
    "    isis2.append(np.diff(st))\n",
    "    counts2.append(len(st))\n",
    "isis2 = np.concatenate(isis2)\n",
    "\n",
    "# number of spikes in all trials  / (duration of a trial * number of trials )\n",
    "rate1 = np.concatenate(spikes1).size / (t_max_1 * len(spikes1) )\n",
    "rate2 = np.concatenate(spikes2).size / (t_max_2 * len(spikes2) )\n",
    "\n",
    "fig = plt.figure(dpi=150)\n",
    "ax1, ax2 = fig.add_subplot(221), fig.add_subplot(222)\n",
    "\n",
    "# \n",
    "ax1.hist(isis1, density=True, linewidth=1, label='Spike train\\ndata')\n",
    "ax2.hist(isis2, density=True)\n",
    "t = np.linspace(0.,2.,1000)\n",
    "f_tau_1 = rate1 * np.exp(-rate1*t)\n",
    "f_tau_2 = rate2 * np.exp(-rate2*t)\n",
    "ax1.plot(t,f_tau_1, label='Prob. density\\nPoisson ')\n",
    "ax2.plot(t,f_tau_2)\n",
    "\n",
    "ax1.set_xlabel(r'$\\tau$')\n",
    "ax2.set_xlabel(r'$\\tau$')\n",
    "ax1.set_ylabel('Probability')\n",
    "ax1.legend()\n",
    "\n",
    "plt.tight_layout()"
   ]
  },
  {
   "cell_type": "code",
   "execution_count": 41,
   "metadata": {},
   "outputs": [
    {
     "name": "stdout",
     "output_type": "stream",
     "text": [
      "Spike trains 1:\n",
      "CV: 0.9702139013231663\n",
      "Fano factor: 2.336032388663967\n",
      "Spike trains 2:\n",
      "CV: 1.3181676786846812\n",
      "Fano factor: 1.7680412371134024\n"
     ]
    }
   ],
   "source": [
    "print('Spike trains 1:')\n",
    "print('CV:', isis1.std(ddof=1)/isis1.mean())\n",
    "print('Fano factor:', np.var(counts1, ddof=1)/np.mean(counts1))\n",
    "\n",
    "print('Spike trains 2:')\n",
    "print('CV:', (isis2.std(ddof=1)/isis2.mean()))\n",
    "print('Fano factor:', np.var(counts2, ddof=1)/np.mean(counts2))\n"
   ]
  },
  {
   "cell_type": "markdown",
   "metadata": {},
   "source": [
    "---\n",
    "### Problem 2: Refractory Period "
   ]
  },
  {
   "cell_type": "markdown",
   "metadata": {},
   "source": [
    "The Poisson process is not an accurate representation of the spiking statistics in the brain. One biologically implausible property is that the intervals between spikes cannot be arbitrarily short. Real neurons, after generating a spike, remain unresponsive for some time, called a refractory period, during which the ion channels and membrane potential recover to their resting state."
   ]
  },
  {
   "cell_type": "markdown",
   "metadata": {},
   "source": [
    "Take yesterday's `poissonspikes_ISI` function to generate a homogenous poisson spike train. Get the ISIs for the spike train. You can do this by adapting the function to e.g. return the spike train and the list of ISIs  (remeber that we used the ISI distribution to generate the spike train) or after via `np.diff`. "
   ]
  },
  {
   "cell_type": "code",
   "execution_count": 22,
   "metadata": {},
   "outputs": [],
   "source": [
    "def poisson_spikes_ISI(rate, time):\n",
    "    spikes = []\n",
    "    t = 0\n",
    "    while t < time:\n",
    "        t -= np.log(np.random.rand())/rate\n",
    "        spikes.append(t)\n",
    "    isis = np.diff(spikes)\n",
    "    return spikes[:-1], np.array(isis[:-1])\n",
    "\n",
    "def poisson_refractory_spikes_ISI_biased(rate, time, refractory_period):\n",
    "    spikes = []\n",
    "    t = 0\n",
    "    while t < time:\n",
    "        #t = t - np.log(np.random.rand())/rate+refractory_period\n",
    "        t -=  np.log(np.random.rand())/rate-refractory_period\n",
    "        spikes.append(t)\n",
    "    isis = np.diff(spikes)\n",
    "    return spikes[:-1], np.array(isis[:-1])"
   ]
  },
  {
   "cell_type": "markdown",
   "metadata": {},
   "source": [
    "### Alternative solution to Problem 2:\n",
    "We can emulate the refractory period in the Poisson process (function without refractory period) by adding this period to all generated inter-spike intervals in."
   ]
  },
  {
   "cell_type": "code",
   "execution_count": 16,
   "metadata": {
    "jupyter": {
     "outputs_hidden": false
    }
   },
   "outputs": [],
   "source": [
    "rate = 100 # Hz\n",
    "time = 1\n",
    "refractory_period = 0.008 # 8 ms\n",
    "\n",
    "spiketrain, isi = poisson_spikes_ISI(rate, time)\n",
    "isi_ref = isi + refractory_period"
   ]
  },
  {
   "cell_type": "markdown",
   "metadata": {},
   "source": [
    "### Problem 3:\n",
    "Now compare the statistics (firing rate and minimum inter-spike interval) of the Poisson process and the same process with refractory period. Use the ISIs instead of the spike train to estimate the rate. To estimate the rate from the ISI simply divide the number of spikes (number of ISIs + 1) by the time of the spike train (sum of ISIs). What do you notice?"
   ]
  },
  {
   "cell_type": "code",
   "execution_count": 23,
   "metadata": {},
   "outputs": [],
   "source": [
    "spiketrain, isi = poisson_spikes_ISI(rate, time)\n",
    "spiketrain_ref, isi_ref = poisson_refractory_spikes_ISI_biased(rate, time, 0.008)"
   ]
  },
  {
   "cell_type": "code",
   "execution_count": 24,
   "metadata": {},
   "outputs": [],
   "source": [
    "def estimate_rate_from_isi(isi):\n",
    "    return (len(isi)+1)/(np.sum(isi))"
   ]
  },
  {
   "cell_type": "code",
   "execution_count": 25,
   "metadata": {},
   "outputs": [
    {
     "name": "stdout",
     "output_type": "stream",
     "text": [
      "Refractory period: 8.0 ms\n",
      "Minimum inter-spike interval:\n",
      " - Poisson process: 0.000042 ms\n",
      " - Poisson with ref. period: 8.299 ms\n",
      "Firing rate:\n",
      " - Poisson process: 115.794 Hz\n",
      " - Poisson with ref. period: 54.603 Hz\n"
     ]
    }
   ],
   "source": [
    "print(\"Refractory period:\", refractory_period*1000, 'ms')\n",
    "print(\"Minimum inter-spike interval:\")\n",
    "print(\" - Poisson process: {:.6f} ms\".format(isi.min()))\n",
    "print(\" - Poisson with ref. period: {:.3f} ms\".format(isi_ref.min()*1000))\n",
    "print('Firing rate:')\n",
    "print(\" - Poisson process: {:.3f} Hz\".format(estimate_rate_from_isi(isi)))\n",
    "print(\" - Poisson with ref. period: {:.3f} Hz\".format(estimate_rate_from_isi(isi_ref)))"
   ]
  },
  {
   "cell_type": "code",
   "execution_count": 26,
   "metadata": {},
   "outputs": [
    {
     "data": {
      "text/plain": [
       "<matplotlib.collections.LineCollection at 0x7f31b3189b50>"
      ]
     },
     "execution_count": 26,
     "metadata": {},
     "output_type": "execute_result"
    },
    {
     "data": {
      "image/png": "[encoded data removed]",
      "text/plain": [
       "<Figure size 432x288 with 1 Axes>"
      ]
     },
     "metadata": {
      "needs_background": "light"
     },
     "output_type": "display_data"
    }
   ],
   "source": [
    "plt.vlines(spiketrain_ref[:100],0,1)"
   ]
  },
  {
   "cell_type": "markdown",
   "metadata": {},
   "source": [
    "### Explanation\n",
    "\n",
    "Note that by increasing the inter-spike intervals we decreased the rate $r$. The new firing rate $\\hat{r}$ can be calculated from the equation with the refractory period $\\tau_{\\mathrm{ref}}$:\n",
    "\n",
    "$$r=\\left(\\hat{r}^{-1}+\\tau_{\\mathrm{ref}}\\right)^{-1}$$\n",
    "\n",
    "To compensate for the decrease, we need to increase the rate parameter $r$ in our `poisson_spikes_ISI` function. If we solve the above equation for $\\hat{r}$ we obtain the adapted rate parameter:\n",
    "\n",
    "$$\\hat{r}=\\left(r^{-1}-\\tau_{\\mathrm{ref}}\\right)^{-1}$$\n",
    "\n",
    "\n",
    "### Problem 4:\n",
    "We now implement this correction in a function generating inter-spike intervals with refractory period: `poisson_refractory_spikes_ISI` by adpation the function above (`poisson_refractory_spikes_ISI_biased`).\n",
    "\n",
    "Are there limits for the rate the new function can take as an argument?"
   ]
  },
  {
   "cell_type": "code",
   "execution_count": 63,
   "metadata": {},
   "outputs": [],
   "source": [
    "def poisson_refractory_spikes_ISI(rate, time, refractory_period):\n",
    "    rate = 1/(1/rate-refractory_period)\n",
    "    spikes = []\n",
    "    isis = []\n",
    "    t = 0\n",
    "    while t < time:\n",
    "        isi = -np.log(np.random.rand())/rate+refractory_period\n",
    "        t = t + isi\n",
    "        spikes.append(t)\n",
    "        isis.append(isi)\n",
    "    return spikes[:-1], np.array(isis[:-1])"
   ]
  },
  {
   "cell_type": "markdown",
   "metadata": {},
   "source": [
    "Check whether after this modification the expected firing rate and inter-spike intervals are correct:"
   ]
  },
  {
   "cell_type": "code",
   "execution_count": 66,
   "metadata": {
    "jupyter": {
     "outputs_hidden": false
    }
   },
   "outputs": [
    {
     "name": "stdout",
     "output_type": "stream",
     "text": [
      "Minimum inter-spike interval: 8.0 ms\n",
      "Firing rate: 99.9 Hz\n"
     ]
    }
   ],
   "source": [
    "rate = 100 # Hz\n",
    "time = 10\n",
    "refractory_period = 0.008 # 8 ms\n",
    "\n",
    "spiketrain_ref, isi_ref = poissonspikes_ISI_refractory(rate, 10, refractory_period)\n",
    "print(\"Minimum inter-spike interval: {:.1f} ms\".format(isi_ref.min()*1000))\n",
    "print('Firing rate: {:.1f} Hz'.format(estimate_rate_from_isi(isi_ref)))"
   ]
  },
  {
   "cell_type": "markdown",
   "metadata": {},
   "source": [
    "### Problem 5\n",
    "Plot a raster plot of a Poisson process with and without refractory period. What do you notice?"
   ]
  },
  {
   "cell_type": "code",
   "execution_count": 85,
   "metadata": {
    "jupyter": {
     "outputs_hidden": false
    }
   },
   "outputs": [
    {
     "data": {
      "image/png": "[encoded data removed]",
      "text/plain": [
       "<Figure size 576x72 with 1 Axes>"
      ]
     },
     "metadata": {
      "needs_background": "light"
     },
     "output_type": "display_data"
    },
    {
     "data": {
      "image/png": "[encoded data removed]",
      "text/plain": [
       "<Figure size 576x72 with 1 Axes>"
      ]
     },
     "metadata": {
      "needs_background": "light"
     },
     "output_type": "display_data"
    }
   ],
   "source": [
    "time=0.5\n",
    "rate=100\n",
    "refractory_period = 0.008\n",
    "\n",
    "\n",
    "spike_train_ref, isi_ref = poissonspikes_ISI_refractory(rate, time, refractory_period)\n",
    "\n",
    "plt.figure(figsize=(8,1))\n",
    "plt.vlines(spike_train_ref, ymin=0, ymax=1, color='k')\n",
    "plt.xlabel('Time (s)')\n",
    "plt.title('Poisson process with refractory period')\n",
    "plt.show()\n",
    "\n",
    "\n",
    "spiketrain, isi = poissonspikes_ISI(rate, time)\n",
    "\n",
    "plt.figure(figsize=(8,1))\n",
    "spike_train = np.cumsum(isi)\n",
    "plt.vlines(spike_train, ymin=0, ymax=1, color='k')\n",
    "plt.xlabel('Time (s)')\n",
    "plt.title('Poisson process')\n",
    "plt.show()"
   ]
  },
  {
   "cell_type": "markdown",
   "metadata": {},
   "source": [
    "### Problem 6\n",
    "Which ratio helps you to quantify your observation? Calculate it for the spike train with refractoriness. What do you notice if you compare to a normal poisson spike train?"
   ]
  },
  {
   "cell_type": "code",
   "execution_count": 86,
   "metadata": {
    "jupyter": {
     "outputs_hidden": false
    }
   },
   "outputs": [
    {
     "name": "stdout",
     "output_type": "stream",
     "text": [
      "CV with refractory period: 0.2\n"
     ]
    }
   ],
   "source": [
    "def calc_cv(isi):\n",
    "    return np.std(isi)/np.mean(isi)\n",
    "print(\"CV with refractory period: {:.1f}\".format(calc_cv(isi_ref)))"
   ]
  },
  {
   "cell_type": "markdown",
   "metadata": {},
   "source": [
    "This value is much lower than the CV of the Poisson distribution (equal to 1), which is a sign that a process with refractory period is in fact more regular. This is also visible in the raster plot:"
   ]
  },
  {
   "cell_type": "markdown",
   "metadata": {},
   "source": [
    "---\n",
    "###  Inhomogeneous Poisson process"
   ]
  },
  {
   "cell_type": "markdown",
   "metadata": {},
   "source": [
    "So far we only considered processes with a constant rate (no variations over time). However, in nervous system the information about external stimuli is encoded in temporal variations of neuronal activity. \n",
    "\n",
    "We can now replace the constant firing rate with an array of firing rates, one value per a bin. For example, we can generate a firing rate oscillating at a frequency of 1 Hz:"
   ]
  },
  {
   "cell_type": "code",
   "execution_count": 80,
   "metadata": {
    "jupyter": {
     "outputs_hidden": false
    }
   },
   "outputs": [
    {
     "data": {
      "image/png": "[encoded data removed]",
      "text/plain": [
       "<Figure size 576x144 with 1 Axes>"
      ]
     },
     "metadata": {
      "needs_background": "light"
     },
     "output_type": "display_data"
    }
   ],
   "source": [
    "time = 5\n",
    "max_rate = 40\n",
    "f_osc = 1\n",
    "dt = 0.002\n",
    "times = np.arange(0, time, dt)\n",
    "rate = max_rate * (np.sin(2*np.pi*f_osc*times)+1)/2\n",
    "\n",
    "plt.figure(figsize=(8, 2))\n",
    "plt.plot(times, rate)\n",
    "plt.ylabel('rate (Hz)')\n",
    "plt.xlabel('time (s)');"
   ]
  },
  {
   "cell_type": "markdown",
   "metadata": {},
   "source": [
    "### Problem 7\n",
    "Write a function that takes a rate and returns spike times based on a inhomogenous Poisson Process. \n",
    "\n",
    "Go back to the function we implemented yesterday: `homogeneous_poisson` (also below).\n",
    "\n",
    "Replace the rate value by an array and compare each random number to consecutive elements of the array. The comparison operators defined in `numpy` work transparently both for single values and arrays, so we do not have to modify the code. We can skip the `time` argument of the function (duration of the train), because it can be obtained directly from the length of the rate array. Don't forget to convert the binary spike train to spike times (__hint__: `np.nonzero`)."
   ]
  },
  {
   "cell_type": "code",
   "execution_count": 81,
   "metadata": {},
   "outputs": [],
   "source": [
    "def homogeneous_poisson(rate, time, dt):\n",
    "    times = np.arange(0, time, dt)\n",
    "    spikes = np.random.rand(times.size) < rate * dt\n",
    "    return times, spikes"
   ]
  },
  {
   "cell_type": "code",
   "execution_count": 82,
   "metadata": {
    "jupyter": {
     "outputs_hidden": false
    }
   },
   "outputs": [],
   "source": [
    "def inhomogeneous_poisson(rate, dt):\n",
    "    n_bins = len(rate)\n",
    "    times = np.arange(0, n_bins*dt+dt, dt)\n",
    "    spikes = np.random.rand(n_bins) < rate * dt\n",
    "    spike_times = np.nonzero(spikes)[0] * dt\n",
    "    isis = np.diff(spike_times)\n",
    "    return times,spike_times,isis"
   ]
  },
  {
   "cell_type": "code",
   "execution_count": 85,
   "metadata": {},
   "outputs": [
    {
     "data": {
      "text/plain": [
       "array([False, False, False, False, False, False, False, False, False,\n",
       "       False, False, False, False, False, False, False, False, False,\n",
       "       False, False])"
      ]
     },
     "execution_count": 85,
     "metadata": {},
     "output_type": "execute_result"
    }
   ],
   "source": [
    "# example\n",
    "spikes = np.random.rand(20) < rate[:20] * 0.001\n",
    "spikes"
   ]
  },
  {
   "cell_type": "code",
   "execution_count": 84,
   "metadata": {},
   "outputs": [
    {
     "data": {
      "text/plain": [
       "array([0.011, 0.014, 0.016])"
      ]
     },
     "execution_count": 84,
     "metadata": {},
     "output_type": "execute_result"
    }
   ],
   "source": [
    "# example\n",
    "np.nonzero(spikes)[0] * 0.001"
   ]
  },
  {
   "cell_type": "markdown",
   "metadata": {},
   "source": [
    "### Problem 8\n",
    "Simulate 100 trials with the oscillatory rate as shown above and plot them as a raster. "
   ]
  },
  {
   "cell_type": "code",
   "execution_count": 86,
   "metadata": {},
   "outputs": [
    {
     "data": {
      "image/png": "[encoded data removed]",
      "text/plain": [
       "<Figure size 720x216 with 2 Axes>"
      ]
     },
     "metadata": {
      "needs_background": "light"
     },
     "output_type": "display_data"
    }
   ],
   "source": [
    "\n",
    "trials=100\n",
    "\n",
    "plt.figure(figsize=(10,3))\n",
    "plt.plot(times, rate, lw=2)\n",
    "plt.ylabel('rate (Hz)')\n",
    "plt.xlabel('time (s)')\n",
    "plt.twinx()\n",
    "for i, run in enumerate(range(trials)):\n",
    "    _,poisson_spike_times, isis = inhomogeneous_poisson(rate, dt)\n",
    "    plt.vlines(poisson_spike_times, i, i+1, color='k')"
   ]
  },
  {
   "cell_type": "markdown",
   "metadata": {},
   "source": [
    "From the raster plot you can see how the spikes are modulated in time. The spike density follows the time-dependent rate superimposed on the plot (blue).\n",
    "\n",
    "### Problem 9\n",
    "Calculate the coefficient of variation for one of the trials. What do you notice?"
   ]
  },
  {
   "cell_type": "code",
   "execution_count": 87,
   "metadata": {
    "jupyter": {
     "outputs_hidden": false
    }
   },
   "outputs": [
    {
     "name": "stdout",
     "output_type": "stream",
     "text": [
      "CV: 1.2625454701421186\n"
     ]
    }
   ],
   "source": [
    "poisson_isis = np.diff(poisson_spike_times)\n",
    "print('CV:', poisson_isis.std()/poisson_isis.mean())"
   ]
  },
  {
   "cell_type": "markdown",
   "metadata": {},
   "source": [
    "CV of the inhomogeneous Poisson process is higher than 1 indicating that it is more irregular than the homogeneous instance."
   ]
  },
  {
   "cell_type": "markdown",
   "metadata": {},
   "source": [
    "### To summarize:\n",
    "\n",
    "* CV = 1 - spike train regularity equal to that of the Poisson process,\n",
    "* CV < 1 - more regular than the Poisson process (for example due to refractoriness),\n",
    "* CV > 1 - less regular than the Poisson process (for example due to variations of firing rate or burstiness)."
   ]
  },
  {
   "cell_type": "markdown",
   "metadata": {},
   "source": [
    "Adpated from \\\n",
    "Bartosz Telenczuk, 2017. Python in neuroscience - tutorials. Zenodo. doi:10.5281/zenodo.345422"
   ]
  }
 ],
 "metadata": {
  "kernelspec": {
   "display_name": "biokurs (Python 3.8)",
   "language": "python",
   "name": "python3"
  },
  "language_info": {
   "codemirror_mode": {
    "name": "ipython",
    "version": 3
   },
   "file_extension": ".py",
   "mimetype": "text/x-python",
   "name": "python",
   "nbconvert_exporter": "python",
   "pygments_lexer": "ipython3",
   "version": "3.8.11"
  }
 },
 "nbformat": 4,
 "nbformat_minor": 4
}
